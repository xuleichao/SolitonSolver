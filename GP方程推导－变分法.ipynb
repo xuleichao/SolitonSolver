{
 "cells": [
  {
   "cell_type": "markdown",
   "metadata": {},
   "source": [
    "## 变分法推导GP方程，多体问题出发"
   ]
  },
  {
   "cell_type": "markdown",
   "metadata": {},
   "source": [
    " １．　考虑N粒子体系，每个粒子都处于BEC态$\\phi(x)$, 系统的哈密顿由两部分组成\n",
    "$H = H_0 + H_i$.其中："
   ]
  },
  {
   "cell_type": "markdown",
   "metadata": {},
   "source": [
    "\\begin{equation}\n",
    "H_0 = \\sum\\limits_{i=1}^{N}[\\frac{p_i^2}{2m}+V(x_i)]\n",
    "\\end{equation}\n",
    "\n",
    "\n",
    "\\begin{equation}\n",
    "H_i = U_0\\sum\\limits_{i<j}\\delta(x_i-x_j)\n",
    "\\end{equation}\n",
    "\n",
    "Pethick C J, Smith H. Bose-Einstein Condensation in Dilute Gases[M]. Cambridge university press,2002: 106-110."
   ]
  },
  {
   "cell_type": "markdown",
   "metadata": {},
   "source": [
    "2. 定义$\\Psi(x)=\\sqrt{N}\\phi(x)$, 当粒子数$N >> 1$, 有$\\frac{N(N-1)}{2}\\approx\\frac{1}{2}N^2$, 于是得到系统的哈密顿为，"
   ]
  },
  {
   "cell_type": "markdown",
   "metadata": {},
   "source": [
    " \\begin{equation}\n",
    "E(\\psi) = \\int dx[\\frac{\\hbar^2}{2m}\\left|\\bigtriangledown\\psi(x,t)\\right|^2+V(x)\\left|\\psi(x,t)\\right|^2+\\frac{1}{2}U_0\\left|\\psi(x,t)\\right|^4]\n",
    "\\end{equation}"
   ]
  }
 ],
 "metadata": {
  "kernelspec": {
   "display_name": "Python 3",
   "language": "python",
   "name": "python3"
  },
  "language_info": {
   "codemirror_mode": {
    "name": "ipython",
    "version": 3
   },
   "file_extension": ".py",
   "mimetype": "text/x-python",
   "name": "python",
   "nbconvert_exporter": "python",
   "pygments_lexer": "ipython3",
   "version": "3.6.8"
  }
 },
 "nbformat": 4,
 "nbformat_minor": 2
}
