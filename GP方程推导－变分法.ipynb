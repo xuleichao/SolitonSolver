{
 "cells": [
  {
   "cell_type": "markdown",
   "metadata": {},
   "source": [
    "## 变分法推导GP方程，多体问题出发"
   ]
  },
  {
   "cell_type": "markdown",
   "metadata": {},
   "source": [
    " １．　考虑N粒子体系，每个粒子都处于BEC态$\\phi(x)$, 系统的哈密顿由两部分组成\n",
    "$H = H_0 + H_i$.其中："
   ]
  },
  {
   "cell_type": "markdown",
   "metadata": {},
   "source": [
    "\\begin{equation}\n",
    "H_0 = \\sum\\limits_{i=1}^{N}[\\frac{p_i^2}{2m}+V(x_i)]\n",
    "\\end{equation}\n",
    "\n",
    "\n",
    "\\begin{equation}\n",
    "H_i = U_0\\sum\\limits_{i<j}\\delta(x_i-x_j)\n",
    "\\end{equation}\n",
    "\n",
    "Pethick C J, Smith H. Bose-Einstein Condensation in Dilute Gases[M]. Cambridge university press,2002: 106-110."
   ]
  },
  {
   "cell_type": "markdown",
   "metadata": {},
   "source": [
    "2. 定义$\\Psi(x)=\\sqrt{N}\\phi(x)$, 当粒子数$N >> 1$, 有$\\frac{N(N-1)}{2}\\approx\\frac{1}{2}N^2$, 于是得到系统的哈密顿为，"
   ]
  },
  {
   "cell_type": "markdown",
   "metadata": {},
   "source": [
    " \\begin{equation}\n",
    "E(\\psi) = \\int dx[\\frac{\\hbar^2}{2m}\\left|\\bigtriangledown\\psi(x,t)\\right|^2+V(x)\\left|\\psi(x,t)\\right|^2+\\frac{1}{2}U_0\\left|\\psi(x,t)\\right|^4]\n",
    "\\end{equation}"
   ]
  },
  {
   "cell_type": "markdown",
   "metadata": {},
   "source": [
    "#  变分法推导GP方程"
   ]
  },
  {
   "cell_type": "markdown",
   "metadata": {},
   "source": [
    "1. 坐标空间中两粒子间的有效相互作用\n",
    " - 由Born近似得到，两粒子发生散射的散射长度可以写为\n",
    " \\begin{equation}\n",
    " a_{Born} = \\frac{m_r}{2\\pi\\eta^2}\\int drU(r)\n",
    " \\end{equation}\n",
    " \n",
    " - 设两体之间的相互作用为$U_{eff}$, then\n",
    " \\begin{equation}\n",
    " \\int drU_{eff} = \\frac{2\\pi\\eta^2a}{m_r} \\equiv U_0\n",
    " \\end{equation}\n",
    " \n",
    " - r为粒子的坐标。可得\n",
    " \n",
    " \\begin{equation}\n",
    " U_{eff}(r, r') = U_0\\delta(r - r')\n",
    " \\end{equation}"
   ]
  },
  {
   "cell_type": "markdown",
   "metadata": {},
   "source": [
    "2. 多体哈密顿在完全凝聚态下，所有的玻色字拥有同一个单粒子态 $\\phi(r)$，因此，我们把N粒子系统的波函数写成\n",
    "\\begin{equation}\n",
    "\\Psi(r_1, r_2, ···, r_N) = \\prod\\limits_{i=1}^N\\phi(r_i)\n",
    "\\end{equation}\n",
    "\n",
    "N系统的哈密顿包括两部分，即系统哈密顿\n",
    "\\begin{equation}\n",
    "H = H_0 + H_i\n",
    "\\end{equation}\n",
    "$H_i$ 是相互作用哈密顿\n",
    "\n",
    "\\begin{equation}\n",
    "H_0 = \\sum_{i=1}^N[\\frac{p_i^2}{2m}+V(r_i)]\n",
    "\\end{equation}\n",
    "$V(r_i)$ 为粒子所受外部势场\n",
    "\\begin{equation}\n",
    "H_i = U_0\\sum_{i<j}\\delta(r_i-r_j)\n",
    "\\end{equation}\n"
   ]
  },
  {
   "cell_type": "markdown",
   "metadata": {},
   "source": [
    "3. 系统哈密顿的期望E\n",
    " - 计算 $H_0$ 的期望值 $E_0$\n",
    "由于第 i 个粒子 $H_0$ 的期望值$\\epsilon_i = \\int \\phi^*H_0\\phi dr_i$, 即"
   ]
  }
 ],
 "metadata": {
  "kernelspec": {
   "display_name": "Python 3",
   "language": "python",
   "name": "python3"
  },
  "language_info": {
   "codemirror_mode": {
    "name": "ipython",
    "version": 3
   },
   "file_extension": ".py",
   "mimetype": "text/x-python",
   "name": "python",
   "nbconvert_exporter": "python",
   "pygments_lexer": "ipython3",
   "version": "3.6.8"
  }
 },
 "nbformat": 4,
 "nbformat_minor": 2
}
