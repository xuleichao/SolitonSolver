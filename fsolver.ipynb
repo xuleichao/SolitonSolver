{
 "cells": [
  {
   "cell_type": "code",
   "execution_count": 2,
   "metadata": {},
   "outputs": [],
   "source": [
    "from matplotlib import pyplot as plt\n",
    "import numpy as np\n",
    "from scipy.optimize import fsolve"
   ]
  },
  {
   "cell_type": "code",
   "execution_count": 3,
   "metadata": {},
   "outputs": [],
   "source": [
    "mu = -0.92"
   ]
  },
  {
   "cell_type": "code",
   "execution_count": 4,
   "metadata": {},
   "outputs": [],
   "source": [
    "def cos_fun(num):\n",
    "    return 1.5 * np.cos(num)"
   ]
  },
  {
   "cell_type": "code",
   "execution_count": 5,
   "metadata": {},
   "outputs": [],
   "source": [
    "def normfun(x, mu, sigma):\n",
    "    pdf = np.exp(-((x - mu)**2)/(2*sigma**2)) / (sigma * np.sqrt(2*np.pi))\n",
    "    return pdf"
   ]
  },
  {
   "cell_type": "code",
   "execution_count": 29,
   "metadata": {},
   "outputs": [],
   "source": [
    "def init(x):\n",
    "    #return np.cosh(x-np.pi) * 1.5 * normfun(x, 0, 1)\n",
    "    #return 1.5 * normfun(x, 0.5, np.pi)\n",
    "    return 1.5 * normfun(x, np.pi, 0.5)# * 0.001 * np.cosh(x-np.pi)"
   ]
  },
  {
   "cell_type": "code",
   "execution_count": 15,
   "metadata": {},
   "outputs": [],
   "source": [
    "def get_N(soliton, step):\n",
    "    length = int(2 * np.pi / step)\n",
    "    N_ = np.zeros(length)\n",
    "    for i in range(length):\n",
    "        N_ = soliton * soliton.T\n",
    "    return sum(N_)"
   ]
  },
  {
   "cell_type": "markdown",
   "metadata": {},
   "source": [
    "## 非线性薛定谔方程求孤子\n",
    "\n",
    "\\begin{equation}\n",
    "-\\frac{1}{2}\\frac{\\partial^2 {\\phi}}{\\partial {x^2}} + V(x)\\phi(x) + \\left|\\phi(x)\\right|^2\\phi(x) = \\mu\\phi(x)\n",
    "\\end{equation}\n",
    "# $\\mu$ 为常数，等式相等即\n",
    "\\begin{equation}\n",
    "-\\frac{1}{2}\\frac{\\partial^2 {\\phi}}{\\partial {x^2}} + V(x)\\phi(x) + \\left|\\phi(x)\\right|^2\\phi(x) - \\mu\\phi(x) = 0\n",
    "\\end{equation}\n",
    "\n",
    "---\n",
    "# 有限差分法，离散二阶导\n",
    "\\begin{equation}\n",
    "f'' = \\frac{f(x+\\Delta x) + f(x-\\Delta x)-2f(x)}{(\\Delta x)^2}\n",
    "\\end{equation}"
   ]
  },
  {
   "cell_type": "code",
   "execution_count": 14,
   "metadata": {},
   "outputs": [
    {
     "data": {
      "text/plain": [
       "array([0., 0., 0.])"
      ]
     },
     "execution_count": 14,
     "metadata": {},
     "output_type": "execute_result"
    }
   ],
   "source": [
    "np.zeros(3)"
   ]
  },
  {
   "cell_type": "code",
   "execution_count": 36,
   "metadata": {},
   "outputs": [],
   "source": [
    "#V = cos(x)\n",
    "def fun(x, step=32*np.pi/2048):\n",
    "    F = np.zeros(len(x))\n",
    "    # 第0\n",
    "    F[0] = - 0.5 * \\\n",
    "           ((x[1] - 2 * x[0]) / step ** 2) + \\\n",
    "           cos_fun(x[0]) * x[0] + \\\n",
    "           np.abs(x[0]) ** 2 * x[0] - mu * x[0]\n",
    "    # 最后一项\n",
    "    F[-1] = - 0.5 * \\\n",
    "           ((x[-2] - 2 * x[-1]) / step ** 2) + \\\n",
    "           cos_fun(x[-1]) * x[-1] + \\\n",
    "           np.abs(x[-1]) ** 2 * x[-1] - mu * x[-1]\n",
    "    F[0] = 0\n",
    "    F[-1] = 0\n",
    "    # 第1到第N-1\n",
    "    for i in range(1, len(F)-1):\n",
    "        F[i] = - 0.5 * \\\n",
    "           ((x[i+1] + x[i-1] - 2 * x[i]) / step ** 2) + \\\n",
    "           cos_fun(x[i]) * x[i] + \\\n",
    "           np.abs(x[i]) ** 2 * x[i] - mu * x[i]\n",
    "    return F"
   ]
  },
  {
   "cell_type": "code",
   "execution_count": 37,
   "metadata": {
    "scrolled": true
   },
   "outputs": [
    {
     "data": {
      "image/png": "[encoded data removed]",
      "text/plain": [
       "<Figure size 432x288 with 1 Axes>"
      ]
     },
     "metadata": {
      "needs_background": "light"
     },
     "output_type": "display_data"
    }
   ],
   "source": [
    "field = np.arange(-50, 50, 32*np.pi/2048)\n",
    "xx = init(field)\n",
    "#xx = np.random.normal(0, 1, len(field))\n",
    "rslt = fsolve(fun, xx)\n",
    "plt.plot(field, rslt)\n",
    "plt.show()"
   ]
  },
  {
   "cell_type": "code",
   "execution_count": 38,
   "metadata": {},
   "outputs": [
    {
     "data": {
      "text/plain": [
       "25.860545586025015"
      ]
     },
     "execution_count": 38,
     "metadata": {},
     "output_type": "execute_result"
    }
   ],
   "source": [
    "get_N(rslt, 32*np.pi/2048)"
   ]
  },
  {
   "cell_type": "code",
   "execution_count": 39,
   "metadata": {},
   "outputs": [
    {
     "data": {
      "text/plain": [
       "[<matplotlib.lines.Line2D at 0x1c0ce14dcf8>]"
      ]
     },
     "execution_count": 39,
     "metadata": {},
     "output_type": "execute_result"
    },
    {
     "data": {
      "image/png": "[encoded data removed]",
      "text/plain": [
       "<Figure size 432x288 with 1 Axes>"
      ]
     },
     "metadata": {
      "needs_background": "light"
     },
     "output_type": "display_data"
    }
   ],
   "source": [
    "z = fun(field)\n",
    "plt.plot(field, z)"
   ]
  }
 ],
 "metadata": {
  "kernelspec": {
   "display_name": "Python 3",
   "language": "python",
   "name": "python3"
  },
  "language_info": {
   "codemirror_mode": {
    "name": "ipython",
    "version": 3
   },
   "file_extension": ".py",
   "mimetype": "text/x-python",
   "name": "python",
   "nbconvert_exporter": "python",
   "pygments_lexer": "ipython3",
   "version": "3.6.8"
  }
 },
 "nbformat": 4,
 "nbformat_minor": 2
}
