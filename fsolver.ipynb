{
 "cells": [
  {
   "cell_type": "code",
   "execution_count": 1,
   "metadata": {},
   "outputs": [],
   "source": [
    "from matplotlib import pyplot as plt\n",
    "import numpy as np\n",
    "from scipy.optimize import fsolve"
   ]
  },
  {
   "cell_type": "code",
   "execution_count": 2,
   "metadata": {},
   "outputs": [],
   "source": [
    "mu = 0.151"
   ]
  },
  {
   "cell_type": "code",
   "execution_count": 3,
   "metadata": {},
   "outputs": [],
   "source": [
    "def cos_fun(num):\n",
    "    return 1.5 * np.cos(num)"
   ]
  },
  {
   "cell_type": "code",
   "execution_count": 4,
   "metadata": {},
   "outputs": [],
   "source": [
    "def normfun(x, mu_, sigma):\n",
    "    pdf = np.exp(-((x - mu_)**2)/(2*sigma**2))# / (sigma * np.sqrt(2*np.pi))\n",
    "    return pdf"
   ]
  },
  {
   "cell_type": "code",
   "execution_count": 5,
   "metadata": {},
   "outputs": [],
   "source": [
    "def get_N(soliton, step):\n",
    "    length = int(2 * np.pi / step)\n",
    "    N_ = np.zeros(length)\n",
    "    for i in range(len(soliton)):\n",
    "        N_[i] = soliton[i] ** 2 * step\n",
    "    return sum(N_)"
   ]
  },
  {
   "cell_type": "markdown",
   "metadata": {},
   "source": [
    "## 非线性薛定谔方程求孤子\n",
    "\n",
    "\\begin{equation}\n",
    "-\\frac{1}{2}\\frac{\\partial^2 {\\phi}}{\\partial {x^2}} + V(x)\\phi(x) + \\left|\\phi(x)\\right|^2\\phi(x) = \\mu\\phi(x)\n",
    "\\end{equation}\n",
    "# $\\mu$ 为常数，等式相等即\n",
    "\\begin{equation}\n",
    "-\\frac{1}{2}\\frac{\\partial^2 {\\phi}}{\\partial {x^2}} + V(x)\\phi(x) + \\left|\\phi(x)\\right|^2\\phi(x) - \\mu\\phi(x) = 0\n",
    "\\end{equation}\n",
    "\n",
    "---\n",
    "# 有限差分法，离散二阶导\n",
    "\\begin{equation}\n",
    "f'' = \\frac{f(x+\\Delta x) + f(x-\\Delta x)-2f(x)}{(\\Delta x)^2}\n",
    "\\end{equation}"
   ]
  },
  {
   "cell_type": "code",
   "execution_count": 6,
   "metadata": {},
   "outputs": [],
   "source": [
    "def fun(f):\n",
    "    step=32*np.pi/2048\n",
    "    F = np.zeros(len(f))\n",
    "    \n",
    "    field = np.arange(-16*np.pi, 16*np.pi, 32*np.pi/2048)\n",
    "    cos_f = cos_fun(field)\n",
    "    \n",
    "    # 第0\n",
    "    F[0] = - 0.5 * \\\n",
    "           ((f[1] - 2 * f[0]) / step ** 2) + \\\n",
    "           cos_f[0] * f[0] + \\\n",
    "           np.abs(f[0]) ** 2 * f[0] - mu * f[0]\n",
    "    # 最后一项\n",
    "    F[-1] = - 0.5 * \\\n",
    "           ((f[-2] - 2 * f[-1]) / step ** 2) + \\\n",
    "           cos_f[-1] * f[-1] + \\\n",
    "           np.abs(f[-1]) ** 2 * f[-1] - mu * f[-1]\n",
    "    # 第1到第N-1\n",
    "    for i in range(1, len(F)-1):\n",
    "        F[i] = - 0.5 * \\\n",
    "           ((f[i+1] + f[i-1] - 2 * f[i]) / step ** 2) + \\\n",
    "           cos_f[i] * f[i] + \\\n",
    "           np.abs(f[i]) ** 2 * f[i] - mu * f[i]\n",
    "    return F"
   ]
  },
  {
   "cell_type": "markdown",
   "metadata": {},
   "source": [
    "## 第一线性带 周期势阱为 $1.5cos(x)$ 时候的初始解$0.1*normal(\\mu=\\pi, \\sigma=0.5)$  $\\mu=-0.92$\n",
    "## $mu = 0.151$ 初始解 $1.5*normal(\\mu=\\pi, \\sigma=0.5)$"
   ]
  },
  {
   "cell_type": "code",
   "execution_count": 7,
   "metadata": {},
   "outputs": [],
   "source": [
    "def init(x):\n",
    "    #return np.cosh(x-np.pi) * 1.5 * normfun(x, 0, 1)\n",
    "    #return 1.5 * normfun(x, np.pi, 0.5) * np.cosh(x - np.pi)\n",
    "    #return 1 * normfun(x, np.pi, 1) * np.sin(x)\n",
    "    #return -5 * np.cos(x - np.pi) * normfun(x, np.pi, 1)\n",
    "    return 1.5 * normfun(x, np.pi, 0.5)"
   ]
  },
  {
   "cell_type": "code",
   "execution_count": 8,
   "metadata": {},
   "outputs": [],
   "source": [
    "N = 2048\n",
    "field = np.arange(-16*np.pi, 16*np.pi, 32*np.pi / N)\n"
   ]
  },
  {
   "cell_type": "code",
   "execution_count": 9,
   "metadata": {},
   "outputs": [
    {
     "data": {
      "image/png": "[encoded data removed]",
      "text/plain": [
       "<Figure size 432x288 with 1 Axes>"
      ]
     },
     "metadata": {
      "needs_background": "light"
     },
     "output_type": "display_data"
    }
   ],
   "source": [
    "xx = init(field)\n",
    "nf = normfun(field, np.pi, 0.5)\n",
    "plt.plot(field, xx)\n",
    "plt.show()"
   ]
  },
  {
   "cell_type": "code",
   "execution_count": 10,
   "metadata": {
    "scrolled": true
   },
   "outputs": [
    {
     "data": {
      "image/png": "[encoded data removed]",
      "text/plain": [
       "<Figure size 432x288 with 1 Axes>"
      ]
     },
     "metadata": {
      "needs_background": "light"
     },
     "output_type": "display_data"
    }
   ],
   "source": [
    "rslt = fsolve(fun, xx)\n",
    "plt.plot(field, rslt)\n",
    "plt.show()"
   ]
  },
  {
   "cell_type": "code",
   "execution_count": 11,
   "metadata": {},
   "outputs": [
    {
     "data": {
      "text/plain": [
       "3.326765264921389"
      ]
     },
     "execution_count": 11,
     "metadata": {},
     "output_type": "execute_result"
    }
   ],
   "source": [
    "sum((rslt ** 2) * (32*np.pi/2048))"
   ]
  },
  {
   "cell_type": "code",
   "execution_count": 12,
   "metadata": {
    "scrolled": true
   },
   "outputs": [
    {
     "data": {
      "text/plain": [
       "[<matplotlib.lines.Line2D at 0x238d63d1128>]"
      ]
     },
     "execution_count": 12,
     "metadata": {},
     "output_type": "execute_result"
    },
    {
     "data": {
      "image/png": "[encoded data removed]",
      "text/plain": [
       "<Figure size 432x288 with 1 Axes>"
      ]
     },
     "metadata": {
      "needs_background": "light"
     },
     "output_type": "display_data"
    }
   ],
   "source": [
    "z = fun(field)\n",
    "plt.plot(field, z)"
   ]
  },
  {
   "cell_type": "markdown",
   "metadata": {},
   "source": [
    "H=diag(0.5*((-N:N).^2+2*(-N:N).*0+ones(1,1:2*N+1)*0^2))+diag(ones(1,2*N)*v/2,1)+diag(ones(1,2*N)*v/2,-1)"
   ]
  },
  {
   "cell_type": "code",
   "execution_count": 3,
   "metadata": {},
   "outputs": [],
   "source": [
    "# 定义 N = 20\n",
    "n = 20\n",
    "v = 2"
   ]
  },
  {
   "cell_type": "code",
   "execution_count": 207,
   "metadata": {
    "scrolled": true
   },
   "outputs": [
    {
     "data": {
      "image/png": "[encoded data removed]",
      "text/plain": [
       "<Figure size 432x288 with 1 Axes>"
      ]
     },
     "metadata": {
      "needs_background": "light"
     },
     "output_type": "display_data"
    }
   ],
   "source": [
    "def eig_res_sorted():\n",
    "    data_zip = zip(data[0], data[1])\n",
    "    data_sorted = sorted(data_zip, key=lambda x: x[0])\n",
    "    eig_value = np.array([i[0] for i in data_sorted])\n",
    "    eig_v = np.array([i[1] for i in data_sorted])\n",
    "\n",
    "def linear_gap_calculation(k):\n",
    "    '''\n",
    "    线性带的计算，k 为参数\n",
    "    超参数 n = 20\n",
    "    '''\n",
    "    diag_mx = np.arange(-n, n+1, 1)\n",
    "    a = np.ones((2 * n + 1))\n",
    "    H = np.diag(0.5 * (diag_mx ** 2 + 2 * diag_mx * k + a * k ** 2))+ \\\n",
    "            np.diag(np.ones((2 * n)) * v / 2, 1) + np.diag(np.ones((2 * n)) * v / 2, -1)\n",
    "    \n",
    "    #eig_value, eig_v = np.linalg.eig(H)\n",
    "    data= np.linalg.eig(H)\n",
    "    data_zip = zip(data[0], data[1].T)\n",
    "    data_sorted = sorted(data_zip, key=lambda x: x[0])\n",
    "    eig_value = np.array([i[0] for i in data_sorted])\n",
    "    eig_v = np.array([i[1] for i in data_sorted])\n",
    "    return eig_value, eig_v\n",
    "\n",
    "def gnrt_linear_graph():\n",
    "    k = np.linspace(-0.5, 0.5, 100)\n",
    "    value_lst_all = [linear_gap_calculation(i) for i in k]\n",
    "    value_lst = np.array([i[0] for i in value_lst_all]).T\n",
    "    eig_v_lst = np.array([i[1] for i in value_lst_all])\n",
    "    for i in value_lst[:4]:\n",
    "        #print(i)\n",
    "        plt.plot(k, i, 'g-')\n",
    "    plt.show()\n",
    "    return value_lst, eig_v_lst\n",
    "\n",
    "a = gnrt_linear_graph()\n",
    "    "
   ]
  },
  {
   "cell_type": "code",
   "execution_count": 206,
   "metadata": {},
   "outputs": [
    {
     "name": "stdout",
     "output_type": "stream",
     "text": [
      "(array([ 8.87462217, -0.27879425,  0.40417208]), array([[ 0.41303772,  0.89687218, -0.0485703 ],\n",
      "       [ 0.60444782, -0.43213928, -0.82658921],\n",
      "       [ 0.68120678, -0.09421214,  0.56070599]]))\n",
      "[ 8.87462217 -0.27879425  0.40417208]\n",
      "[0.41303772 0.60444782 0.68120678]\n"
     ]
    },
    {
     "data": {
      "text/plain": [
       "array([0.41303772, 0.60444782, 0.68120678])"
      ]
     },
     "execution_count": 206,
     "metadata": {},
     "output_type": "execute_result"
    }
   ],
   "source": [
    "H = np.array([[1,2,3], [2,3,4], [2,3,5]])\n",
    "z = np.linalg.eig(H)\n",
    "print(z)\n",
    "z_1=z[1].T\n",
    "print(z[0])\n",
    "print(z_1[0])\n",
    "np.dot(H, z_1[0])/z[0][0]\n"
   ]
  },
  {
   "cell_type": "code",
   "execution_count": 126,
   "metadata": {},
   "outputs": [
    {
     "data": {
      "text/plain": [
       "(41, 41)"
      ]
     },
     "execution_count": 126,
     "metadata": {},
     "output_type": "execute_result"
    }
   ],
   "source": [
    "a[1][0].shape"
   ]
  },
  {
   "cell_type": "code",
   "execution_count": 227,
   "metadata": {},
   "outputs": [
    {
     "data": {
      "text/plain": [
       "(100, 41, 41)"
      ]
     },
     "execution_count": 227,
     "metadata": {},
     "output_type": "execute_result"
    }
   ],
   "source": [
    "a[1].shape"
   ]
  },
  {
   "cell_type": "code",
   "execution_count": 240,
   "metadata": {
    "scrolled": true
   },
   "outputs": [
    {
     "data": {
      "text/plain": [
       "[<matplotlib.lines.Line2D at 0x7f44ab9cfcc0>]"
      ]
     },
     "execution_count": 240,
     "metadata": {},
     "output_type": "execute_result"
    },
    {
     "data": {
      "image/png": "[encoded data removed]",
      "text/plain": [
       "<Figure size 432x288 with 1 Axes>"
      ]
     },
     "metadata": {
      "needs_background": "light"
     },
     "output_type": "display_data"
    }
   ],
   "source": [
    "#ev = a[1].T[0]\n",
    "x = np.linspace(-10, 10, 1000)\n",
    "N_lst = np.arange(-20, 21, 1)\n",
    "k = 0\n",
    "va = a[1][-1][2]\n",
    "res = np.array([np.exp(1j * N_lst[i] * x) * va[i] for i in range(N_lst.shape[0])])\n",
    "res = res.sum(0)\n",
    "res = res * np.exp(1j * k * x)\n",
    "#print(res)\n",
    "b = [i.real for i in res]\n",
    "plt.plot(x, b) "
   ]
  },
  {
   "cell_type": "code",
   "execution_count": 9,
   "metadata": {},
   "outputs": [
    {
     "data": {
      "text/plain": [
       "(41, 100)"
      ]
     },
     "execution_count": 9,
     "metadata": {},
     "output_type": "execute_result"
    }
   ],
   "source": [
    "res.shape"
   ]
  },
  {
   "cell_type": "code",
   "execution_count": 10,
   "metadata": {},
   "outputs": [],
   "source": [
    "def get_phi_k():\n",
    "    pass"
   ]
  },
  {
   "cell_type": "code",
   "execution_count": 11,
   "metadata": {},
   "outputs": [
    {
     "ename": "AttributeError",
     "evalue": "'list' object has no attribute 'sum'",
     "output_type": "error",
     "traceback": [
      "\u001b[0;31m---------------------------------------------------------------------------\u001b[0m",
      "\u001b[0;31mAttributeError\u001b[0m                            Traceback (most recent call last)",
      "\u001b[0;32m<ipython-input-11-49f70763bed4>\u001b[0m in \u001b[0;36m<module>\u001b[0;34m\u001b[0m\n\u001b[0;32m----> 1\u001b[0;31m \u001b[0mplt\u001b[0m\u001b[0;34m.\u001b[0m\u001b[0mplot\u001b[0m\u001b[0;34m(\u001b[0m\u001b[0mb\u001b[0m\u001b[0;34m.\u001b[0m\u001b[0msum\u001b[0m\u001b[0;34m(\u001b[0m\u001b[0maxis\u001b[0m\u001b[0;34m=\u001b[0m\u001b[0;36m2\u001b[0m\u001b[0;34m)\u001b[0m\u001b[0;34m.\u001b[0m\u001b[0mT\u001b[0m\u001b[0;34m[\u001b[0m\u001b[0;36m22\u001b[0m\u001b[0;34m]\u001b[0m\u001b[0;34m)\u001b[0m\u001b[0;34m\u001b[0m\u001b[0;34m\u001b[0m\u001b[0m\n\u001b[0m\u001b[1;32m      2\u001b[0m \u001b[0mplt\u001b[0m\u001b[0;34m.\u001b[0m\u001b[0mshow\u001b[0m\u001b[0;34m(\u001b[0m\u001b[0;34m)\u001b[0m\u001b[0;34m\u001b[0m\u001b[0;34m\u001b[0m\u001b[0m\n",
      "\u001b[0;31mAttributeError\u001b[0m: 'list' object has no attribute 'sum'"
     ]
    }
   ],
   "source": [
    "plt.plot(b.sum(axis=2).T[22])\n",
    "plt.show()"
   ]
  }
 ],
 "metadata": {
  "kernelspec": {
   "display_name": "Python 3",
   "language": "python",
   "name": "python3"
  },
  "language_info": {
   "codemirror_mode": {
    "name": "ipython",
    "version": 3
   },
   "file_extension": ".py",
   "mimetype": "text/x-python",
   "name": "python",
   "nbconvert_exporter": "python",
   "pygments_lexer": "ipython3",
   "version": "3.6.7"
  }
 },
 "nbformat": 4,
 "nbformat_minor": 2
}
