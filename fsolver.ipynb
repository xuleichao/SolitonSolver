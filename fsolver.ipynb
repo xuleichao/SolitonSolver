{
 "cells": [
  {
   "cell_type": "code",
   "execution_count": 293,
   "metadata": {},
   "outputs": [],
   "source": [
    "from matplotlib import pyplot as plt\n",
    "import numpy as np\n",
    "from scipy.optimize import fsolve"
   ]
  },
  {
   "cell_type": "code",
   "execution_count": 294,
   "metadata": {},
   "outputs": [],
   "source": [
    "mu = -0.92"
   ]
  },
  {
   "cell_type": "code",
   "execution_count": 295,
   "metadata": {},
   "outputs": [],
   "source": [
    "def cos_fun(num):\n",
    "    return 1.5 * np.cos(num)"
   ]
  },
  {
   "cell_type": "code",
   "execution_count": 296,
   "metadata": {},
   "outputs": [],
   "source": [
    "def normfun(x, mu_, sigma):\n",
    "    pdf = np.exp(-((x - mu_)**2)/(2*sigma**2)) / (sigma * np.sqrt(2*np.pi))\n",
    "    return pdf"
   ]
  },
  {
   "cell_type": "code",
   "execution_count": 297,
   "metadata": {},
   "outputs": [],
   "source": [
    "def get_N(soliton, step):\n",
    "    length = int(2 * np.pi / step)\n",
    "    N_ = np.zeros(length)\n",
    "    for i in range(len(soliton)):\n",
    "        print(soliton[i])\n",
    "        N_[i] = soliton[i] ** 2 * step\n",
    "    print(N_)\n",
    "    return sum(N_)"
   ]
  },
  {
   "cell_type": "markdown",
   "metadata": {},
   "source": [
    "## 非线性薛定谔方程求孤子\n",
    "\n",
    "\\begin{equation}\n",
    "-\\frac{1}{2}\\frac{\\partial^2 {\\phi}}{\\partial {x^2}} + V(x)\\phi(x) + \\left|\\phi(x)\\right|^2\\phi(x) = \\mu\\phi(x)\n",
    "\\end{equation}\n",
    "# $\\mu$ 为常数，等式相等即\n",
    "\\begin{equation}\n",
    "-\\frac{1}{2}\\frac{\\partial^2 {\\phi}}{\\partial {x^2}} + V(x)\\phi(x) + \\left|\\phi(x)\\right|^2\\phi(x) - \\mu\\phi(x) = 0\n",
    "\\end{equation}\n",
    "\n",
    "---\n",
    "# 有限差分法，离散二阶导\n",
    "\\begin{equation}\n",
    "f'' = \\frac{f(x+\\Delta x) + f(x-\\Delta x)-2f(x)}{(\\Delta x)^2}\n",
    "\\end{equation}"
   ]
  },
  {
   "cell_type": "code",
   "execution_count": 350,
   "metadata": {},
   "outputs": [],
   "source": [
    "def fun(f):\n",
    "    step=32*np.pi/1024\n",
    "    F = np.zeros(len(f))\n",
    "    \n",
    "    field = np.arange(-50, 50, 32*np.pi/1024)\n",
    "    cos_f = cos_fun(field)\n",
    "    \n",
    "    # 第0\n",
    "    F[0] = - 0.5 * \\\n",
    "           ((f[1] - 2 * f[0]) / step ** 2) + \\\n",
    "           cos_f[0] * f[0] + \\\n",
    "           np.abs(f[0]) ** 2 * f[0] - mu * f[0]\n",
    "    # 最后一项\n",
    "    F[-1] = - 0.5 * \\\n",
    "           ((f[-2] - 2 * f[-1]) / step ** 2) + \\\n",
    "           cos_f[-1] * f[-1] + \\\n",
    "           np.abs(f[-1]) ** 2 * f[-1] - mu * f[-1]\n",
    "    # 第1到第N-1\n",
    "    for i in range(1, len(F)-1):\n",
    "        F[i] = - 0.5 * \\\n",
    "           ((f[i+1] + f[i-1] - 2 * f[i]) / step ** 2) + \\\n",
    "           cos_f[i] * f[i] + \\\n",
    "           np.abs(f[i]) ** 2 * f[i] - mu * f[i]\n",
    "    return F"
   ]
  },
  {
   "cell_type": "code",
   "execution_count": 347,
   "metadata": {},
   "outputs": [],
   "source": [
    "def init(x):\n",
    "    #return np.cosh(x-np.pi) * 1.5 * normfun(x, 0, 1)\n",
    "    return 1.5 * normfun(x, np.pi, 0.5)\n",
    "    #return 1 * normfun(x, np.pi, 1) * np.sin(x)\n",
    "    #return -5 * np.cos(x - np.pi) * normfun(x, np.pi, 5.5)"
   ]
  },
  {
   "cell_type": "code",
   "execution_count": 348,
   "metadata": {},
   "outputs": [
    {
     "data": {
      "image/png": "[encoded data removed]",
      "text/plain": [
       "<Figure size 432x288 with 1 Axes>"
      ]
     },
     "metadata": {
      "needs_background": "light"
     },
     "output_type": "display_data"
    }
   ],
   "source": [
    "field = np.arange(-50, 50, 32*np.pi/1024)\n",
    "xx = init(field)\n",
    "nf = normfun(field, np.pi, 0.5)\n",
    "plt.plot(field, xx)\n",
    "plt.show()"
   ]
  },
  {
   "cell_type": "code",
   "execution_count": 349,
   "metadata": {
    "scrolled": false
   },
   "outputs": [
    {
     "data": {
      "image/png": "[encoded data removed]",
      "text/plain": [
       "<Figure size 432x288 with 1 Axes>"
      ]
     },
     "metadata": {
      "needs_background": "light"
     },
     "output_type": "display_data"
    }
   ],
   "source": [
    "rslt = fsolve(fun, xx)\n",
    "plt.plot(field, rslt)\n",
    "plt.show()"
   ]
  },
  {
   "cell_type": "code",
   "execution_count": 302,
   "metadata": {},
   "outputs": [
    {
     "data": {
      "text/plain": [
       "[<matplotlib.lines.Line2D at 0x1c0cf9ddb38>]"
      ]
     },
     "execution_count": 302,
     "metadata": {},
     "output_type": "execute_result"
    },
    {
     "data": {
      "image/png": "[encoded data removed]",
      "text/plain": [
       "<Figure size 432x288 with 1 Axes>"
      ]
     },
     "metadata": {
      "needs_background": "light"
     },
     "output_type": "display_data"
    }
   ],
   "source": [
    "z = fun(field)\n",
    "plt.plot(field, z)"
   ]
  }
 ],
 "metadata": {
  "kernelspec": {
   "display_name": "Python 3",
   "language": "python",
   "name": "python3"
  },
  "language_info": {
   "codemirror_mode": {
    "name": "ipython",
    "version": 3
   },
   "file_extension": ".py",
   "mimetype": "text/x-python",
   "name": "python",
   "nbconvert_exporter": "python",
   "pygments_lexer": "ipython3",
   "version": "3.6.8"
  }
 },
 "nbformat": 4,
 "nbformat_minor": 2
}
