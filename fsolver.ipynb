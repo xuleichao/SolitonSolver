{
 "cells": [
  {
   "cell_type": "code",
   "execution_count": 1,
   "metadata": {},
   "outputs": [],
   "source": [
    "from matplotlib import pyplot as plt\n",
    "import numpy as np\n",
    "from scipy.optimize import fsolve"
   ]
  },
  {
   "cell_type": "code",
   "execution_count": 2,
   "metadata": {},
   "outputs": [],
   "source": [
    "mu = 0.151"
   ]
  },
  {
   "cell_type": "code",
   "execution_count": 3,
   "metadata": {},
   "outputs": [],
   "source": [
    "def cos_fun(num):\n",
    "    return 1.5 * np.cos(num)"
   ]
  },
  {
   "cell_type": "code",
   "execution_count": 4,
   "metadata": {},
   "outputs": [],
   "source": [
    "def normfun(x, mu_, sigma):\n",
    "    pdf = np.exp(-((x - mu_)**2)/(2*sigma**2))# / (sigma * np.sqrt(2*np.pi))\n",
    "    return pdf"
   ]
  },
  {
   "cell_type": "code",
   "execution_count": 5,
   "metadata": {},
   "outputs": [],
   "source": [
    "def get_N(soliton, step):\n",
    "    length = int(2 * np.pi / step)\n",
    "    N_ = np.zeros(length)\n",
    "    for i in range(len(soliton)):\n",
    "        N_[i] = soliton[i] ** 2 * step\n",
    "    return sum(N_)"
   ]
  },
  {
   "cell_type": "markdown",
   "metadata": {},
   "source": [
    "## 非线性薛定谔方程求孤子\n",
    "\n",
    "\\begin{equation}\n",
    "-\\frac{1}{2}\\frac{\\partial^2 {\\phi}}{\\partial {x^2}} + V(x)\\phi(x) + \\left|\\phi(x)\\right|^2\\phi(x) = \\mu\\phi(x)\n",
    "\\end{equation}\n",
    "# $\\mu$ 为常数，等式相等即\n",
    "\\begin{equation}\n",
    "-\\frac{1}{2}\\frac{\\partial^2 {\\phi}}{\\partial {x^2}} + V(x)\\phi(x) + \\left|\\phi(x)\\right|^2\\phi(x) - \\mu\\phi(x) = 0\n",
    "\\end{equation}\n",
    "\n",
    "---\n",
    "# 有限差分法，离散二阶导\n",
    "\\begin{equation}\n",
    "f'' = \\frac{f(x+\\Delta x) + f(x-\\Delta x)-2f(x)}{(\\Delta x)^2}\n",
    "\\end{equation}"
   ]
  },
  {
   "cell_type": "code",
   "execution_count": 6,
   "metadata": {},
   "outputs": [],
   "source": [
    "def fun(f):\n",
    "    step=32*np.pi/2048\n",
    "    F = np.zeros(len(f))\n",
    "    \n",
    "    field = np.arange(-16*np.pi, 16*np.pi, 32*np.pi/2048)\n",
    "    cos_f = cos_fun(field)\n",
    "    \n",
    "    # 第0\n",
    "    F[0] = - 0.5 * \\\n",
    "           ((f[1] - 2 * f[0]) / step ** 2) + \\\n",
    "           cos_f[0] * f[0] + \\\n",
    "           np.abs(f[0]) ** 2 * f[0] - mu * f[0]\n",
    "    # 最后一项\n",
    "    F[-1] = - 0.5 * \\\n",
    "           ((f[-2] - 2 * f[-1]) / step ** 2) + \\\n",
    "           cos_f[-1] * f[-1] + \\\n",
    "           np.abs(f[-1]) ** 2 * f[-1] - mu * f[-1]\n",
    "    # 第1到第N-1\n",
    "    for i in range(1, len(F)-1):\n",
    "        F[i] = - 0.5 * \\\n",
    "           ((f[i+1] + f[i-1] - 2 * f[i]) / step ** 2) + \\\n",
    "           cos_f[i] * f[i] + \\\n",
    "           np.abs(f[i]) ** 2 * f[i] - mu * f[i]\n",
    "    return F"
   ]
  },
  {
   "cell_type": "markdown",
   "metadata": {},
   "source": [
    "## 第一线性带 周期势阱为 $1.5cos(x)$ 时候的初始解$0.1*normal(\\mu=\\pi, \\sigma=0.5)$  $\\mu=-0.92$\n",
    "## $mu = 0.151$ 初始解 $1.5*normal(\\mu=\\pi, \\sigma=0.5)$"
   ]
  },
  {
   "cell_type": "code",
   "execution_count": 7,
   "metadata": {},
   "outputs": [],
   "source": [
    "def init(x):\n",
    "    #return np.cosh(x-np.pi) * 1.5 * normfun(x, 0, 1)\n",
    "    #return 1.5 * normfun(x, np.pi, 0.5) * np.cosh(x - np.pi)\n",
    "    #return 1 * normfun(x, np.pi, 1) * np.sin(x)\n",
    "    #return -5 * np.cos(x - np.pi) * normfun(x, np.pi, 1)\n",
    "    return 1.5 * normfun(x, np.pi, 0.5)"
   ]
  },
  {
   "cell_type": "code",
   "execution_count": 8,
   "metadata": {},
   "outputs": [],
   "source": [
    "N = 2048\n",
    "field = np.arange(-16*np.pi, 16*np.pi, 32*np.pi / N)\n"
   ]
  },
  {
   "cell_type": "code",
   "execution_count": 9,
   "metadata": {},
   "outputs": [
    {
     "data": {
      "image/png": "[encoded data removed]",
      "text/plain": [
       "<Figure size 432x288 with 1 Axes>"
      ]
     },
     "metadata": {
      "needs_background": "light"
     },
     "output_type": "display_data"
    }
   ],
   "source": [
    "xx = init(field)\n",
    "nf = normfun(field, np.pi, 0.5)\n",
    "plt.plot(field, xx)\n",
    "plt.show()"
   ]
  },
  {
   "cell_type": "code",
   "execution_count": 10,
   "metadata": {
    "scrolled": true
   },
   "outputs": [
    {
     "data": {
      "image/png": "[encoded data removed]",
      "text/plain": [
       "<Figure size 432x288 with 1 Axes>"
      ]
     },
     "metadata": {
      "needs_background": "light"
     },
     "output_type": "display_data"
    }
   ],
   "source": [
    "rslt = fsolve(fun, xx)\n",
    "plt.plot(field, rslt)\n",
    "plt.show()"
   ]
  },
  {
   "cell_type": "code",
   "execution_count": 11,
   "metadata": {},
   "outputs": [
    {
     "data": {
      "text/plain": [
       "3.326765264921389"
      ]
     },
     "execution_count": 11,
     "metadata": {},
     "output_type": "execute_result"
    }
   ],
   "source": [
    "sum((rslt ** 2) * (32*np.pi/2048))"
   ]
  },
  {
   "cell_type": "code",
   "execution_count": 12,
   "metadata": {
    "scrolled": true
   },
   "outputs": [
    {
     "data": {
      "text/plain": [
       "[<matplotlib.lines.Line2D at 0x238d63d1128>]"
      ]
     },
     "execution_count": 12,
     "metadata": {},
     "output_type": "execute_result"
    },
    {
     "data": {
      "image/png": "[encoded data removed]",
      "text/plain": [
       "<Figure size 432x288 with 1 Axes>"
      ]
     },
     "metadata": {
      "needs_background": "light"
     },
     "output_type": "display_data"
    }
   ],
   "source": [
    "z = fun(field)\n",
    "plt.plot(field, z)"
   ]
  },
  {
   "cell_type": "markdown",
   "metadata": {},
   "source": [
    "H=diag(0.5*((-N:N).^2+2*(-N:N).*0+ones(1,1:2*N+1)*0^2))+diag(ones(1,2*N)*v/2,1)+diag(ones(1,2*N)*v/2,-1)"
   ]
  },
  {
   "cell_type": "code",
   "execution_count": 29,
   "metadata": {},
   "outputs": [],
   "source": [
    "# 定义 N = 20\n",
    "n = 20\n",
    "v = 2"
   ]
  },
  {
   "cell_type": "code",
   "execution_count": 33,
   "metadata": {
    "scrolled": true
   },
   "outputs": [
    {
     "data": {
      "image/png": "[encoded data removed]",
      "text/plain": [
       "<Figure size 432x288 with 1 Axes>"
      ]
     },
     "metadata": {
      "needs_background": "light"
     },
     "output_type": "display_data"
    }
   ],
   "source": [
    "def linear_gap_calculation(k):\n",
    "    '''\n",
    "    线性带的计算，k 为参数\n",
    "    超参数 n = 20\n",
    "    '''\n",
    "    diag_mx = np.arange(-n, n+1, 1)\n",
    "    a = np.ones((2 * n + 1))\n",
    "    H = np.diag(0.5 * (diag_mx ** 2 + 2 * diag_mx * k + a * k ** 2))+ \\\n",
    "            np.diag(np.ones((2 * n)) * v / 2, 1) + np.diag(np.ones((2 * n)) * v / 2, -1)\n",
    "    eig_value, eig_v = np.linalg.eig(H)\n",
    "    return eig_value, eig_v\n",
    "\n",
    "def gnrt_linear_graph():\n",
    "    x = np.linspace(-0.5, 0.5, 100)\n",
    "    value_lst = np.array([linear_gap_calculation(i)[0] for i in x]).T\n",
    "    value_lst.sort(0)\n",
    "    for i in value_lst[:4]:\n",
    "        #print(i)\n",
    "        plt.plot(x, i, 'g-')\n",
    "    plt.show()\n",
    "    return value_lst\n",
    "\n",
    "a = gnrt_linear_graph()\n",
    "    "
   ]
  },
  {
   "cell_type": "code",
   "execution_count": 24,
   "metadata": {
    "scrolled": true
   },
   "outputs": [],
   "source": [
    "a.sort(0)"
   ]
  },
  {
   "cell_type": "code",
   "execution_count": 27,
   "metadata": {},
   "outputs": [
    {
     "data": {
      "text/plain": [
       "array([-0.05449295, -0.05448717, -0.05446987, -0.05444111, -0.05440099,\n",
       "       -0.05434968, -0.05428737, -0.0542143 , -0.05413075, -0.05403706,\n",
       "       -0.05393357, -0.0538207 , -0.05369888, -0.05356859, -0.05343033,\n",
       "       -0.05328464, -0.0531321 , -0.0529733 , -0.05280887, -0.05263946,\n",
       "       -0.05246574, -0.0522884 , -0.05210814, -0.05192568, -0.05174175,\n",
       "       -0.05155709, -0.05137244, -0.05118855, -0.05100616, -0.05082601,\n",
       "       -0.05064883, -0.05047534, -0.05030626, -0.05014228, -0.04998407,\n",
       "       -0.04983228, -0.04968754, -0.04955045, -0.04942159, -0.04930147,\n",
       "       -0.04919061, -0.04908947, -0.04899847, -0.04891799, -0.04884837,\n",
       "       -0.04878989, -0.04874282, -0.04870734, -0.0486836 , -0.04867171,\n",
       "       -0.04867171, -0.0486836 , -0.04870734, -0.04874282, -0.04878989,\n",
       "       -0.04884837, -0.04891799, -0.04899847, -0.04908947, -0.04919061,\n",
       "       -0.04930147, -0.04942159, -0.04955045, -0.04968754, -0.04983228,\n",
       "       -0.04998407, -0.05014228, -0.05030626, -0.05047534, -0.05064883,\n",
       "       -0.05082601, -0.05100616, -0.05118855, -0.05137244, -0.05155709,\n",
       "       -0.05174175, -0.05192568, -0.05210814, -0.0522884 , -0.05246574,\n",
       "       -0.05263946, -0.05280887, -0.0529733 , -0.0531321 , -0.05328464,\n",
       "       -0.05343033, -0.05356859, -0.05369888, -0.0538207 , -0.05393357,\n",
       "       -0.05403706, -0.05413075, -0.0542143 , -0.05428737, -0.05434968,\n",
       "       -0.05440099, -0.05444111, -0.05446987, -0.05448717, -0.05449295])"
      ]
     },
     "execution_count": 27,
     "metadata": {},
     "output_type": "execute_result"
    }
   ],
   "source": [
    "a[1]"
   ]
  },
  {
   "cell_type": "markdown",
   "metadata": {},
   "source": [
    "\\begin{equation}\n",
    "\\frac{1-cos x}{xtanx} = \\frac{2sin^2 {\\frac{x}{2}}}{xtanx} = \\frac{sinx/2}{x/2}*\\frac{sinx/2}{tanx} = \\frac{sinx/2}{tanx} = 0.5\n",
    "\\end{equation}"
   ]
  }
 ],
 "metadata": {
  "kernelspec": {
   "display_name": "Python 3",
   "language": "python",
   "name": "python3"
  },
  "language_info": {
   "codemirror_mode": {
    "name": "ipython",
    "version": 3
   },
   "file_extension": ".py",
   "mimetype": "text/x-python",
   "name": "python",
   "nbconvert_exporter": "python",
   "pygments_lexer": "ipython3",
   "version": "3.6.8"
  }
 },
 "nbformat": 4,
 "nbformat_minor": 2
}
