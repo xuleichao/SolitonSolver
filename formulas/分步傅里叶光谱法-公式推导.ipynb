{
 "cells": [
  {
   "cell_type": "markdown",
   "metadata": {},
   "source": [
    "# 文章题目：Mass-conservative Fourier spectral methods for solving the fractional nonlinear Schrödinger equation"
   ]
  },
  {
   "cell_type": "markdown",
   "metadata": {},
   "source": [
    "## 一、分步傅里叶光谱法(Split-step Fourier spectral method)"
   ]
  },
  {
   "cell_type": "markdown",
   "metadata": {},
   "source": [
    "#### 原始问题为分数指数的非线性薛定谔方程"
   ]
  },
  {
   "cell_type": "markdown",
   "metadata": {},
   "source": [
    "\\begin{equation}\n",
    "i \\epsilon  \\frac{\\partial u(x,t)}{\\partial t}=\\epsilon ^{\\alpha } (-\\triangle )^{\\alpha /2} u(x,t)+\\beta |u(x,t)|^{2 \\sigma }u(x,t)；(2-1)\n",
    "\\end{equation}"
   ]
  },
  {
   "cell_type": "markdown",
   "metadata": {},
   "source": [
    "#### 从$t_n$ to $t_{n+1}$ 上述公式可分为两步"
   ]
  },
  {
   "cell_type": "markdown",
   "metadata": {},
   "source": [
    "\\begin{equation}\n",
    "i \\epsilon  \\frac{\\partial u(x,t)}{\\partial t}=\\text{}\\beta \\text{}\\left|u(x,t)|^{2 \\sigma }u(x,t)\\right.-----   (2-4)\n",
    "\\end{equation}\n",
    "\\begin{equation}\n",
    "i\\text{}\\epsilon \\text{}\\frac{\\partial u(x,t)}{\\partial t}\\text{}=\\text{}(-\\triangle )^{\\alpha /2} \\epsilon ^{a} u(x,t)----   (2-5)\n",
    "\\end{equation}"
   ]
  },
  {
   "cell_type": "markdown",
   "metadata": {},
   "source": [
    "#### 对(2-4)两边同时乘以$u^*(x,t)$ ,然后消去共轭项，对于$t\\in(t_n, t_{n+1})$,有$|u(x, t)|^{2\\sigma} = |u(x,t_n)|^{2\\sigma}$，但这一步推导如下：```by 张铁```"
   ]
  },
  {
   "cell_type": "markdown",
   "metadata": {},
   "source": [
    "\\begin{equation}\n",
    "i \\epsilon  u^*(x,t) \\frac{\\partial u(x,t)}{\\partial t}=\\beta \\left| u(x,t)\\right| ^{2 \\sigma }u(x,t)u^*(x,t)\n",
    "\\end{equation}\n",
    "\n",
    "\\begin{equation}\n",
    "i \\epsilon  u^*(x,t) \\frac{\\partial u(x,t)}{\\partial t}=\\beta  \\left| u(x,t)\\right| ^2 \\left| u(x,t)\\right| ^{2 \\sigma }=\\beta  \\left| u(x,t)\\right| ^{2 \\sigma +2}------(1)\n",
    "\\end{equation}\n",
    "\n",
    "\\begin{equation}\n",
    "-i \\epsilon  u(x,t) \\frac{\\partial u^*(x,t)}{\\partial t}=\\beta  \\left| u(x,t)\\right| ^2 \\left| u(x,t)\\right| ^{2 \\sigma }=\\beta \\left| u(x,t)\\right| ^{2 \\sigma +2}----(2)\n",
    "\\end{equation}\n",
    "\n",
    "(1) - (2)\n",
    "\n",
    "$u(x,t) \\frac{\\partial u^*(x,t)}{\\partial t}+u^*(x,t) \\frac{\\partial u(x,t)}{\\partial t}=0$\n",
    "\n",
    "$\\left|u^*(x,t) \\frac{\\partial u(x,t)}{\\partial t}\\right|=\\left|\\frac{\\partial u(x,t)}{\\partial t}\\right|\\left|u^*(x,t)\\right|=0$\n",
    "\n",
    "所以，得\n",
    "$\\frac{\\partial u(x,t)}{\\partial t} = 0$，证明u(x,t)在𝑡∈(𝑡𝑛,𝑡𝑛+1) 恒定。"
   ]
  },
  {
   "cell_type": "markdown",
   "metadata": {},
   "source": [
    "#### 于是公式(2-4)变为 $i \\epsilon  \\frac{\\partial u(x,t)}{\\partial t}=\\text{}\\beta \\text{}\\left|u(x,t_n)|^{2 \\sigma }u(x,t)\\right.$, 我们来求解这个方程。"
   ]
  },
  {
   "cell_type": "markdown",
   "metadata": {},
   "source": [
    "该方程是微分方程，变形可得，\n",
    "\n",
    "\\begin{equation}\n",
    "\\frac{\\partial u(x,t)}{ {u(x,t)}}=\\frac{-i \\beta}{\\epsilon} \\text{}\\left|u(x,t_n)|^{2 \\sigma }dt\\right.\n",
    "\\end{equation}\n",
    "\n",
    "解微分方程，得\n",
    "\\begin{equation}\n",
    "u(x,t)\\text{}=\\text{}\\text{C}*\\text{Exp}\\left[-\\frac{\\beta  i}{\\epsilon }\\text{}|u\\left(x,t_n\\right)|^{2 \\sigma }\\text{}t\\right]\n",
    "\\end{equation}\n",
    "\n",
    "当$t = t_n$时，有$u(x,t) = u(x,t_n)$, 将此条件带入上述方程后得\n",
    "\\begin{equation}\n",
    "C = \\text{}u\\left(x,t_n\\right)\\text{}\\text{Exp}\\left[\\frac{\\beta  i}{\\epsilon }|u\\left(x,t_n\\right)|^{2 \\sigma }\\text{}t_n\\right]\n",
    "\\end{equation}"
   ]
  },
  {
   "cell_type": "markdown",
   "metadata": {},
   "source": [
    " #### 于是最终解为\n",
    " \\begin{equation}\n",
    " u(x,t)=u\\left(x,t_n\\right)\\text{}\\text{Exp}\\left[-\\frac{\\text{i$\\beta $}}{\\epsilon }|u(x,t)|^{2 \\sigma }t-t_n\\right]\n",
    " \\end{equation}"
   ]
  },
  {
   "cell_type": "markdown",
   "metadata": {},
   "source": [
    "## 二、分数阶拉普拉斯-傅里叶定义"
   ]
  },
  {
   "cell_type": "markdown",
   "metadata": {},
   "source": [
    "\\begin{equation}\n",
    "    (-\\Delta)^{\\frac{\\alpha }{2}}u(\\xi )={\\mathcal{F}^{-1}}\\left(\\left| \\xi \\right| ^2 \\mathcal{F}(u(\\xi ))\\right)\n",
    "\\end{equation}"
   ]
  },
  {
   "cell_type": "code",
   "execution_count": null,
   "metadata": {},
   "outputs": [],
   "source": []
  }
 ],
 "metadata": {
  "kernelspec": {
   "display_name": "Python 3",
   "language": "python",
   "name": "python3"
  },
  "language_info": {
   "codemirror_mode": {
    "name": "ipython",
    "version": 3
   },
   "file_extension": ".py",
   "mimetype": "text/x-python",
   "name": "python",
   "nbconvert_exporter": "python",
   "pygments_lexer": "ipython3",
   "version": "3.6.7"
  }
 },
 "nbformat": 4,
 "nbformat_minor": 2
}
