{
 "cells": [
  {
   "cell_type": "markdown",
   "metadata": {},
   "source": [
    "\\begin{equation*}\n",
    "i\\frac{\\partial \\Psi }{\\partial z}=-\\frac{1}{2}\\frac{d^{2}\\Psi }{dx^{2}}\n",
    "+V\\left( x\\right) \\Psi +\\left\\vert \\Psi \\right\\vert ^{2}\\Psi\n",
    "\\end{equation*}\n",
    "\n",
    "---"
   ]
  },
  {
   "cell_type": "markdown",
   "metadata": {},
   "source": [
    "\\begin{equation*}\n",
    "\\Psi \\left( z,x\\right) =\\phi \\left( x\\right) \\exp \\left( -i\\mu z\\right)\n",
    "\\end{equation*}\n",
    "\\begin{equation*}\n",
    "-\\frac{1}{2}\\frac{d^{2}\\phi \\left( x\\right) }{dx^{2}}+V\\left( x\\right) \\phi\n",
    "\\left( x\\right) +\\left\\vert \\phi \\left( x\\right) \\right\\vert ^{2}\\phi \\left(\n",
    "x\\right) =\\mu \\phi \\left( x\\right)\n",
    "\\end{equation*}\n",
    "\n",
    "---"
   ]
  },
  {
   "cell_type": "markdown",
   "metadata": {},
   "source": [
    "\\begin{equation*}\n",
    "\\Psi \\left( z,x\\right) =\\left[ \\phi \\left( x\\right) +\\Delta \\phi \\left(\n",
    "z,x\\right) \\right] \\exp \\left( -i\\mu z\\right)\n",
    "\\end{equation*}\n",
    "\n",
    "---"
   ]
  },
  {
   "cell_type": "markdown",
   "metadata": {},
   "source": [
    " ## $u(x)$ $\\omega(x)$ 分别是微扰"
   ]
  },
  {
   "cell_type": "markdown",
   "metadata": {},
   "source": [
    "\\begin{equation*}\n",
    "\\Delta \\phi \\left( z,x\\right) =u\\left( x\\right) \\exp \\left( i\\delta z\\right)\n",
    "+w^{\\ast }\\left( x\\right) \\exp \\left( -i\\delta ^{\\ast }z\\right)\n",
    "\\end{equation*}\n",
    "\n",
    "---"
   ]
  },
  {
   "cell_type": "markdown",
   "metadata": {},
   "source": [
    "\\begin{eqnarray*}\n",
    "i\\frac{\\partial \\Psi }{\\partial z} &=&i\\frac{\\partial }{\\partial z}\\left\\{ \n",
    "\\left[ \\phi \\left( x\\right) +\\Delta \\phi \\left( z,x\\right) \\right] \\exp\n",
    "\\left( -i\\mu z\\right) \\right\\} \\\\\n",
    "&=&\\mu \\phi \\left( x\\right) \\exp \\left( -i\\mu z\\right) +i\\frac{\\partial\n",
    "\\Delta \\phi \\left( z,x\\right) }{\\partial z}\\exp \\left( -i\\mu z\\right) +i\n",
    "\\frac{\\partial \\exp \\left( -i\\mu z\\right) }{\\partial z}\\Delta \\phi \\left(\n",
    "z,x\\right) \\\\\n",
    "&=&\\mu \\phi \\left( x\\right) \\exp \\left( -i\\mu z\\right) -\\delta u\\left(\n",
    "x\\right) \\exp \\left( i\\delta z\\right) \\exp \\left( -i\\mu z\\right) +\\delta\n",
    "^{\\ast }w^{\\ast }\\left( x\\right) \\exp \\left( -i\\delta ^{\\ast }z\\right) \\exp\n",
    "\\left( -i\\mu z\\right) +\\mu \\Delta \\phi \\left( z,x\\right) \\exp \\left( -i\\mu\n",
    "z\\right) \\\\\n",
    "&=&\\mu \\left[ \\phi \\left( x\\right) +\\Delta \\phi \\left( z,x\\right) \\right]\n",
    "\\exp \\left( -i\\mu z\\right) -\\delta u\\left( x\\right) \\exp \\left( i\\delta\n",
    "z\\right) \\exp \\left( -i\\mu z\\right) +\\delta ^{\\ast }w^{\\ast }\\left( x\\right)\n",
    "\\exp \\left( -i\\delta ^{\\ast }z\\right) \\exp \\left( -i\\mu z\\right) \\\\\n",
    "&=&\\mu \\Psi \\left( z,x\\right) -\\delta u\\left( x\\right) \\exp \\left( i\\delta\n",
    "z\\right) \\exp \\left( -i\\mu z\\right) +\\delta ^{\\ast }w^{\\ast }\\left( x\\right)\n",
    "\\exp \\left( -i\\delta ^{\\ast }z\\right) \\exp \\left( -i\\mu z\\right)\n",
    "\\end{eqnarray*}\n",
    "\n",
    "---"
   ]
  },
  {
   "cell_type": "markdown",
   "metadata": {},
   "source": [
    "\\begin{eqnarray*}\n",
    "-\\frac{1}{2}\\frac{d^{2}\\Psi }{dx^{2}} &=&-\\frac{1}{2}\\frac{d^{2}}{dx^{2}}\n",
    "\\left\\{ \\left[ \\phi \\left( x\\right) +\\Delta \\phi \\left( z,x\\right) \\right]\n",
    "\\exp \\left( -i\\mu z\\right) \\right\\} \\\\\n",
    "&=&-\\frac{1}{2}\\frac{d^{2}\\phi \\left( x\\right) }{dx^{2}}\\exp \\left( -i\\mu\n",
    "z\\right) -\\frac{1}{2}\\left[ \\frac{d^{2}u\\left( x\\right) }{dx^{2}}\\exp \\left(\n",
    "i\\delta z\\right) +\\frac{d^{2}w^{\\ast }\\left( x\\right) }{dx^{2}}\\exp \\left(\n",
    "-i\\delta ^{\\ast }z\\right) \\right] \\exp \\left( -i\\mu z\\right)\n",
    "\\end{eqnarray*}\n",
    "\n",
    "---\n",
    "\\begin{eqnarray*}\n",
    "\\left\\vert \\Psi \\right\\vert ^{2} &=&\\left\\vert \\left[ \\phi \\left( x\\right)\n",
    "+\\Delta \\phi \\left( z,x\\right) \\right] \\exp \\left( -i\\mu z\\right)\n",
    "\\right\\vert ^{2}=\\left\\vert \\phi \\left( x\\right) +\\Delta \\phi \\left(\n",
    "z,x\\right) \\right\\vert ^{2} \\\\\n",
    "&=&\\left[ \\phi ^{\\ast }\\left( x\\right) +\\Delta \\phi ^{\\ast }\\left(\n",
    "z,x\\right) \\right] \\left[ \\phi \\left( x\\right) +\\Delta \\phi \\left(\n",
    "z,x\\right) \\right] \\\\\n",
    "&=&\\left\\vert \\phi \\left( x\\right) \\right\\vert ^{2}+\\phi ^{\\ast }\\left(\n",
    "x\\right) \\Delta \\phi \\left( z,x\\right) +\\Delta \\phi ^{\\ast }\\left(\n",
    "z,x\\right) \\phi \\left( x\\right) +\\left\\vert \\Delta \\phi \\left( z,x\\right)\n",
    "\\right\\vert ^{2} \\\\\n",
    "&=&\\left\\vert \\phi \\left( x\\right) \\right\\vert ^{2}+\\phi ^{\\ast }\\left(\n",
    "x\\right) \\Delta \\phi \\left( z,x\\right) +\\Delta \\phi ^{\\ast }\\left(\n",
    "z,x\\right) \\phi \\left( x\\right)\n",
    "\\end{eqnarray*}\n",
    "\n",
    "---"
   ]
  },
  {
   "cell_type": "markdown",
   "metadata": {},
   "source": [
    "\\begin{eqnarray*}\n",
    "\\left\\vert \\Psi \\right\\vert ^{2}\\Psi &=&\\left[ \\left\\vert \\phi \\left(\n",
    "x\\right) \\right\\vert ^{2}+\\phi ^{\\ast }\\left( x\\right) \\Delta \\phi \\left(\n",
    "z,x\\right) +\\phi \\left( x\\right) \\Delta \\phi ^{\\ast }\\left( z,x\\right) \n",
    "\\right] \\left[ \\phi \\left( x\\right) +\\Delta \\phi \\left( z,x\\right) \\right] \\\\\n",
    "&=&\\left\\vert \\phi \\left( x\\right) \\right\\vert ^{2}\\phi \\left( x\\right)\n",
    "+2\\left\\vert \\phi \\left( x\\right) \\right\\vert ^{2}\\Delta \\phi \\left(\n",
    "z,x\\right) +\\phi ^{2}\\left( x\\right) \\Delta \\phi ^{\\ast }\\left( z,x\\right)\n",
    "\\end{eqnarray*}\n",
    "\n",
    "---"
   ]
  },
  {
   "cell_type": "markdown",
   "metadata": {},
   "source": [
    "\\begin{eqnarray*}\n",
    "&&\\mu \\left[ \\phi \\left( x\\right) +\\Delta \\phi \\left( z,x\\right) \\right]\n",
    "\\exp \\left( -i\\mu z\\right) -\\delta u\\left( x\\right) \\exp \\left( i\\delta\n",
    "z\\right) \\exp \\left( -i\\mu z\\right) +\\delta ^{\\ast }w^{\\ast }\\left( x\\right)\n",
    "\\exp \\left( -i\\delta ^{\\ast }z\\right) \\exp \\left( -i\\mu z\\right) \\\\\n",
    "&=&-\\frac{1}{2}\\frac{d^{2}\\phi \\left( x\\right) }{dx^{2}}\\exp \\left( -i\\mu\n",
    "z\\right) -\\frac{1}{2}\\left[ \\frac{d^{2}u\\left( x\\right) }{dx^{2}}\\exp \\left(\n",
    "i\\delta z\\right) +\\frac{d^{2}w^{\\ast }\\left( x\\right) }{dx^{2}}\\exp \\left(\n",
    "-i\\delta ^{\\ast }z\\right) \\right] \\exp \\left( -i\\mu z\\right) \\\\\n",
    "&&+V\\left( x\\right) \\left[ \\phi \\left( x\\right) +\\Delta \\phi \\left(\n",
    "z,x\\right) \\right] \\exp \\left( -i\\mu z\\right) \\\\\n",
    "&&+\\left\\vert \\phi \\left( x\\right) \\right\\vert ^{2}\\phi \\left( x\\right)\n",
    "+2\\left\\vert \\phi \\left( x\\right) \\right\\vert ^{2}\\Delta \\phi \\left(\n",
    "z,x\\right) +\\phi ^{2}\\left( x\\right) \\Delta \\phi ^{\\ast }\\left( z,x\\right)\n",
    "\\exp \\left( -i\\mu z\\right)\n",
    "\\end{eqnarray*}\n",
    "\n",
    "---"
   ]
  },
  {
   "cell_type": "markdown",
   "metadata": {},
   "source": [
    "\\begin{eqnarray*}\n",
    "&&\\mu \\left[ \\phi \\left( x\\right) +\\Delta \\phi \\left( z,x\\right) \\right]\n",
    "-\\delta u\\left( x\\right) \\exp \\left( i\\delta z\\right) +\\delta ^{\\ast\n",
    "}w^{\\ast }\\left( x\\right) \\exp \\left( -i\\delta ^{\\ast }z\\right) \\\\\n",
    "&=&-\\frac{1}{2}\\frac{d^{2}\\phi \\left( x\\right) }{dx^{2}}-\\frac{1}{2}\\left[ \n",
    "\\frac{d^{2}u\\left( x\\right) }{dx^{2}}\\exp \\left( i\\delta z\\right) +\\frac{\n",
    "d^{2}w^{\\ast }\\left( x\\right) }{dx^{2}}\\exp \\left( -i\\delta ^{\\ast }z\\right) \n",
    "\\right] \\\\\n",
    "&&+V\\left( x\\right) \\left[ \\phi \\left( x\\right) +\\Delta \\phi \\left(\n",
    "z,x\\right) \\right] \\\\\n",
    "&&+\\left\\vert \\phi \\left( x\\right) \\right\\vert ^{2}\\phi \\left( x\\right)\n",
    "+2\\left\\vert \\phi \\left( x\\right) \\right\\vert ^{2}\\Delta \\phi \\left(\n",
    "z,x\\right) +\\phi ^{2}\\left( x\\right) \\Delta \\phi ^{\\ast }\\left( z,x\\right)\n",
    "\\end{eqnarray*}\n",
    "\n",
    "---"
   ]
  },
  {
   "cell_type": "markdown",
   "metadata": {},
   "source": [
    "\\begin{eqnarray*}\n",
    "&&\\mu \\Delta \\phi \\left( z,x\\right) -\\delta u\\left( x\\right) \\exp \\left(\n",
    "i\\delta z\\right) +\\delta ^{\\ast }w^{\\ast }\\left( x\\right) \\exp \\left(\n",
    "-i\\delta ^{\\ast }z\\right) \\\\\n",
    "&=&-\\frac{1}{2}\\left[ \\frac{d^{2}u\\left( x\\right) }{dx^{2}}\\exp \\left(\n",
    "i\\delta z\\right) +\\frac{d^{2}w^{\\ast }\\left( x\\right) }{dx^{2}}\\exp \\left(\n",
    "-i\\delta ^{\\ast }z\\right) \\right] \\\\\n",
    "&&+V\\left( x\\right) \\Delta \\phi \\left( z,x\\right) +2\\left\\vert \\phi \\left(\n",
    "x\\right) \\right\\vert ^{2}\\Delta \\phi \\left( z,x\\right) +\\phi ^{2}\\left(\n",
    "x\\right) \\Delta \\phi ^{\\ast }\\left( z,x\\right)\n",
    "\\end{eqnarray*}\n",
    "\n",
    "---"
   ]
  },
  {
   "cell_type": "markdown",
   "metadata": {},
   "source": [
    "\\begin{eqnarray*}\n",
    "&&\\mu u\\left( x\\right) \\exp \\left( i\\delta z\\right) +\\mu w^{\\ast }\\left(\n",
    "x\\right) \\exp \\left( -i\\delta ^{\\ast }z\\right) -\\delta u\\left( x\\right) \\exp\n",
    "\\left( i\\delta z\\right) +\\delta ^{\\ast }w^{\\ast }\\left( x\\right) \\exp \\left(\n",
    "-i\\delta ^{\\ast }z\\right) \\\\\n",
    "&=&-\\frac{1}{2}\\left[ \\frac{d^{2}u\\left( x\\right) }{dx^{2}}\\exp \\left(\n",
    "i\\delta z\\right) +\\frac{d^{2}w^{\\ast }\\left( x\\right) }{dx^{2}}\\exp \\left(\n",
    "-i\\delta ^{\\ast }z\\right) \\right] \\\\\n",
    "&&+V\\left( x\\right) \\Delta \\phi \\left( z,x\\right) +2\\left\\vert \\phi \\left(\n",
    "x\\right) \\right\\vert ^{2}\\Delta \\phi \\left( z,x\\right) +\\phi ^{2}\\left(\n",
    "x\\right) \\left[ u^{\\ast }\\left( x\\right) \\exp \\left( -i\\delta ^{\\ast\n",
    "}z\\right) +w\\left( x\\right) \\exp \\left( i\\delta z\\right) \\right]\n",
    "\\end{eqnarray*}\n",
    "\n",
    "---"
   ]
  },
  {
   "cell_type": "markdown",
   "metadata": {},
   "source": [
    "\\begin{eqnarray*}\n",
    "\\frac{1}{2}\\frac{d^{2}u\\left( x\\right) }{dx^{2}}-V\\left( x\\right) u\\left(\n",
    "x\\right) -2\\left\\vert \\phi \\left( x\\right) \\right\\vert ^{2}u\\left( x\\right)\n",
    "+\\mu u\\left( x\\right) -\\phi ^{2}\\left( x\\right) w\\left( x\\right) &=&\\delta\n",
    "u\\left( x\\right) \\\\\n",
    "\\phi ^{2}\\left( x\\right) u^{\\ast }\\left( x\\right) -\\frac{1}{2}\\frac{\n",
    "d^{2}w^{\\ast }\\left( x\\right) }{dx^{2}}+V\\left( x\\right) w^{\\ast }\\left(\n",
    "x\\right) +2\\left\\vert \\phi \\left( x\\right) \\right\\vert ^{2}w^{\\ast }\\left(\n",
    "x\\right) -\\mu w^{\\ast }\\left( x\\right) &=&\\delta ^{\\ast }w^{\\ast }\\left(\n",
    "x\\right)\n",
    "\\end{eqnarray*}\n",
    "\n",
    "---"
   ]
  },
  {
   "cell_type": "markdown",
   "metadata": {},
   "source": [
    "\\begin{equation*}\n",
    "\\phi ^{\\ast 2}\\left( x\\right) u\\left( x\\right) -\\frac{1}{2}\\frac{\n",
    "d^{2}w\\left( x\\right) }{dx^{2}}+V\\left( x\\right) w\\left( x\\right)\n",
    "+2\\left\\vert \\phi \\left( x\\right) \\right\\vert ^{2}w\\left( x\\right) -\\mu\n",
    "w\\left( x\\right) =\\delta w\\left( x\\right)\n",
    "\\end{equation*}\n",
    "\\begin{equation*}\n",
    "\\mathcal{L}=\\frac{1}{2}\\frac{d^{2}}{dx^{2}}-V\\left( x\\right) -2\\left\\vert\n",
    "\\phi \\left( x\\right) \\right\\vert ^{2}+\\mu\n",
    "\\end{equation*}\n",
    "\n",
    "---\n",
    "\\begin{equation*}\n",
    "\\left( \n",
    "\\begin{array}{cc}\n",
    "\\mathcal{L} & -\\phi ^{2} \\\\ \n",
    "\\phi ^{\\ast 2} & -\\mathcal{L}\n",
    "\\end{array}\n",
    "\\right) \\left( \n",
    "\\begin{array}{c}\n",
    "u \\\\ \n",
    "w\n",
    "\\end{array}\n",
    "\\right) =\\delta \\left( \n",
    "\\begin{array}{c}\n",
    "u \\\\ \n",
    "w\n",
    "\\end{array}\n",
    "\\right)\n",
    "\\end{equation*}"
   ]
  }
 ],
 "metadata": {
  "kernelspec": {
   "display_name": "Python 3",
   "language": "python",
   "name": "python3"
  },
  "language_info": {
   "codemirror_mode": {
    "name": "ipython",
    "version": 3
   },
   "file_extension": ".py",
   "mimetype": "text/x-python",
   "name": "python",
   "nbconvert_exporter": "python",
   "pygments_lexer": "ipython3",
   "version": "3.6.7"
  }
 },
 "nbformat": 4,
 "nbformat_minor": 2
}
