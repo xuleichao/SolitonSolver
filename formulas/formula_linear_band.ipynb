{
  "cells": [
    {
      "metadata": {
        "collapsed": true
      },
      "cell_type": "markdown",
      "source": "## 线性带的求解  The solutions of linear band"
    },
    {
      "metadata": {
        "collapsed": true
      },
      "cell_type": "markdown",
      "source": "1. 原方程，含时线性薛定谔方程\n\\begin{equation}\ni\\frac{\\partial \\Psi(x, t)}{\\partial t} = - \\frac{1}{2}\\frac{\\partial^2 \\Psi(x,t)}{\\partial x^2} + V(x)\\Psi(x,t)\n\\end{equation}"
    },
    {
      "metadata": {},
      "cell_type": "markdown",
      "source": "2. 上式变量分离得 $\\Psi(x,t)=exp(-iEt)\\Phi(x)$ , 代入 1 式得"
    },
    {
      "metadata": {},
      "cell_type": "markdown",
      "source": "3. \n\\begin{equation}\n-\\frac{1}{2}\\frac{\\partial^2\\Phi(x)}{\\partial x^2} + \\nu cosx\\Phi(x) = E\\Phi(x)\n\\end{equation}"
    },
    {
      "metadata": {},
      "cell_type": "markdown",
      "source": "4. 又有布洛赫定理 $\\Phi(x) = exp(ikx)\\phi_k(x)$，而 $\\phi_k(x) = \\sum_{m=-L}^L a_m e^{imx}$\n"
    },
    {
      "metadata": {},
      "cell_type": "markdown",
      "source": "5. 将 4 式$\\Phi(x)$代入 3 式，得\n\\begin{equation}\n-\\frac{1}{2}exp(ikx)[-k^2\\phi_k(x) + 2ik\\frac{\\partial \\phi_k(x)}{\\partial x} + \\frac{\\partial ^2 \\phi_k(x)}{\\partial x^2}] + \\nu cos x * exp(ikx) \\phi_k(x) = E*exp(ikx)\\phi_k(x)\n\\end{equation}\n\n消去exp(ikx)，得\n\\begin{equation}\n-\\frac{1}{2}[-k^2\\phi_k(x) + 2ik\\frac{\\partial \\phi_k(x)}{\\partial x} + \\frac{\\partial ^2 \\phi_k(x)}{\\partial x^2}] + \\nu cos x  \\phi_k(x) = E\\phi_k(x)\n\\end{equation}"
    },
    {
      "metadata": {},
      "cell_type": "markdown",
      "source": "6. 将 4 式$\\phi_k(x)$ 代入 5 的结果，得\n\\begin{equation}\n\\frac{1}{2}k^2\\sum_{m=-L}^La_m e^{imx} + k\\sum_{m=-L}^Lma_m e^{imx}+\\frac{1}{2}\\sum_{m=-L}^{L}m^2\na_me^{imx} + \\nu cos(x)\\sum_{m=-L}^La_me^{imx}=E\\sum_{m=-L}^La_me^{imx\n}\\end{equation}"
    },
    {
      "metadata": {},
      "cell_type": "markdown",
      "source": "7. 三角函数的欧拉公式，有\n\\begin{equation}\ncos(x) = \\frac{1}{2}(e^{ix} + e^{-ix})\n\\end{equation}\n\\begin{equation}\nsin(x) = \\frac{1}{2i}(e^{ix} - e^{-ix})\n\\end{equation}\n同时，有下面公式成立\n\\begin{equation}\n\\int_0^{2\\pi}e^{-imx}e^{inx}dx = \\int_0^{2\\pi}e^{i(n-m)x}dx = 2\\pi L\\delta(m-n)\n\\end{equation}"
    },
    {
      "metadata": {},
      "cell_type": "markdown",
      "source": "8. 将 7 中的余弦公式代入 6 中，得\n\\begin{equation}\nk^2\\sum_{m=-L}^La_me^{imx} + 2k\\sum_{m=-L}^Lma_me^{imx}+\\sum_{m=-L}^Lm^2a_me^{imx}+\\nu (e^{ix} + e^{-ix})\\sum_{m=-L}^La_me^{imx}=2E\\sum_{m=-L}^La_me^{imx}\n\\end{equation}\n\n---\n---\n\n\\begin{equation}\nk^2\\sum_{m=-L}^La_me^{imx} + 2k\\sum_{m=-L}^Lma_me^{imx}+\\sum_{m=-L}^Lm^2a_me^{imx}+\\nu \\sum_{m=-L}^La_me^{(m+1)ix} + \\nu \\sum_{m=-L}^La_me^{(m-1)ix}=2E\\sum_{m=-L}^La_me^{imx}\n\\end{equation}\n\n---\n---\n\n\\begin{equation}\n\\sum_{m=-L}^L(m^2+2km+k^2)a_me^{imx}+\\nu \\sum_{m=-L}^La_me^{(m+1)ix} + \\nu \\sum_{m=-L}^Le^{(m-1)ix} = 2E\\sum_{m=-L}^La_me^{imx}\n\\end{equation}\n"
    },
    {
      "metadata": {},
      "cell_type": "markdown",
      "source": "9. 8 式两边同时乘以 $e^{-inx}$，再对两边做从 $0-2\\pi$ 积分，得\n\\begin{equation}\n\\sum_{m=-L}^L(m^2 + 2km+k^2)a_m \\int_0^{2\\pi}e^{imx}e^{-inx}dx+\\nu \\sum_{m=-L}^La_m\\int_0^{2\\pi}e^{(m+1)ix}e^{-inx}dx+\\nu \\sum_{m=-L}^La_m\\int_0^{2\\pi}e^{(m-1)ix}e^{-inx}dx=2E\\sum_{m=-L}^La_m\\int_)^{2\\pi}e^{imx}e^{-inx}dx\n\\end{equation}"
    },
    {
      "metadata": {},
      "cell_type": "markdown",
      "source": "10. 由 7 中的积分等式可得，\n\\begin{equation}\n\\sum_{m,n=-L}^L(m^2 + 2km+k^2)a_m\\delta(n-m) + \\nu \\sum_{m,n=-L}^La_m\\delta(n-m+1)+\\nu \\sum_{m,n=-L}^La_m\\delta(n-m-1)-2E\\sum_{m,n=-L}^La_m\\delta(n-m) = 0\n\\end{equation}"
    }
  ],
  "metadata": {
    "kernelspec": {
      "name": "python36",
      "display_name": "Python 3.6",
      "language": "python"
    },
    "language_info": {
      "mimetype": "text/x-python",
      "nbconvert_exporter": "python",
      "name": "python",
      "pygments_lexer": "ipython3",
      "version": "3.6.6",
      "file_extension": ".py",
      "codemirror_mode": {
        "version": 3,
        "name": "ipython"
      }
    }
  },
  "nbformat": 4,
  "nbformat_minor": 2
}