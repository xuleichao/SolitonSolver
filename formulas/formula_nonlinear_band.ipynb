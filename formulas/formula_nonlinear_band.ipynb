{
 "metadata": {
  "language_info": {
   "codemirror_mode": {
    "name": "ipython",
    "version": 3
   },
   "file_extension": ".py",
   "mimetype": "text/x-python",
   "name": "python",
   "nbconvert_exporter": "python",
   "pygments_lexer": "ipython3",
   "version": "3.8.3-final"
  },
  "orig_nbformat": 2,
  "kernelspec": {
   "name": "python_defaultSpec_1597981040126",
   "display_name": "Python 3.8.3 64-bit"
  }
 },
 "nbformat": 4,
 "nbformat_minor": 2,
 "cells": [
  {
   "cell_type": "markdown",
   "metadata": {
    "tags": []
   },
   "source": [
    "## 非线性布洛赫波的求解  The solutions of nonlinear bloch wave\n",
    "1.无量纲化后的定态GP方程\n",
    "\\begin{equation}\n",
    "-\\frac{1}{2}{\\frac{\\partial^2 \\phi }{\\partial x^2}} + v \\, cos(x) \\, \\phi + \\sigma \\left | \\phi  \\right |^2 \\phi = \\mu \\,\\phi\n",
    "\\end{equation}\n",
    "\n",
    "2.由布洛赫定理，令\n",
    "\\begin{equation}\n",
    "\\phi(x) = e^{ikx}\\rho(x) \n",
    "\\end{equation}\n",
    "\n",
    "3.将2代入1得到\n",
    "\\begin{equation}\n",
    "-\\frac{1}{2}e^{ikx}(-k^2 \\rho (x) + 2ik\\frac{\\partial \\rho (x)}{\\partial x}+\\frac{\\partial^2 \\rho (x)}{\\partial x^2}) + v \\, cos(x) \\, e^{ikx} \\rho (x) + \\sigma \\left | \\rho (x) \\right |^2 e^{ikx} \\rho (x) = \\mu \\, e^{ikx} \\rho (x)\n",
    "\\end{equation}\n",
    "\n",
    "4.约去$e^{ikx}$，得到\n",
    "\\begin{equation}\n",
    "-\\frac{1}{2}(-k^2 \\rho (x) + 2ik\\frac{\\partial \\rho (x)}{\\partial x}+\\frac{\\partial^2 \\rho (x)}{\\partial x^2}) + v \\, cos(x) \\, \\rho (x) + \\sigma \\left | \\rho (x) \\right |^2 \\rho (x) = \\mu \\,  \\rho (x)\n",
    "\\end{equation}\n",
    "\n",
    "5.将$\\rho (x)$进行傅里叶展开，令\n",
    "\\begin{equation}\n",
    "\\rho (x)=\\sum_{m=-L}^{L}a_m e^{imx}\n",
    "\\end{equation}\n",
    "\n",
    "6.并使用余弦的复指数表达式\n",
    "\\begin{equation}\n",
    "cos(x) = \\frac{1}{2}(e^{ix} + e^{-ix})\n",
    "\\end{equation}\n",
    "\n",
    "7.将5和6代入4得到\n",
    "\\begin{equation}\n",
    "\\frac{1}{2}k^2\\sum_{m=-L}^{L}a_m e^{imx} + k \\sum_{m=-L}^{L}m \\, a_m e^{imx} + \\frac{1}{2}\\sum_{m=-L}^{L}m^2 a_m e^{imx} + \\frac{1}{2}v \\sum_{m=-L}^{L}a_m (e^{i(m+1)x} + e^{i(m-1)x}) + \\sigma \\left | \\sum_{m=-L}^{L}a_m e^{imx} \\right |^2 \\sum_{m=-L}^{L}a_m e^{imx} = \\mu \\sum_{m=-L}^{L}a_m e^{imx}\n",
    "\\end{equation}\n",
    "\n",
    "8.令$\\sigma=1$，计算上式左边含$\\sigma$项得\n",
    "\\begin{equation}\n",
    "\\begin{aligned} \n",
    "\\left | \\sum_{m=-L}^{L}a_m e^{imx} \\right |^2 \\sum_{m=-L}^{L}a_m e^{imx} &= (\\sum_{m=-L}^{L}a_m e^{imx})^\\dagger  \\sum_{m=-L}^{L}a_m e^{imx} \\sum_{m=-L}^{L}a_m e^{imx} \\\\ \n",
    "&= \\sum_{g=-L}^{L} \\sum_{l=-L}^{L} \\sum_{n=-L}^{L} a_g a_l a_n e^{i(l-g+n)x}\n",
    "\\end{aligned}\n",
    "\\end{equation}\n",
    "\n",
    "9.将8代入7，得到\n",
    "\\begin{equation}\n",
    "\\frac{1}{2}k^2\\sum_{m=-L}^{L}a_m e^{imx} + k \\sum_{m=-L}^{L}m \\, a_m e^{imx} + \\frac{1}{2}\\sum_{m=-L}^{L}m^2 a_m e^{imx} + \\frac{1}{2}v \\sum_{m=-L}^{L}a_m (e^{i(m+1)x} + e^{i(m-1)x}) - \\mu \\sum_{m=-L}^{L}a_m e^{imx} +  \\sum_{g=-L}^{L} \\sum_{l=-L}^{L} \\sum_{n=-L}^{L} a_g a_l a_n e^{i(l-g+n)x} = 0\n",
    "\\end{equation}\n",
    "\n",
    "10.根据傅里叶级数展开的唯一性，方程左边每个$e^{imx}$的系数必须消失，得到\n",
    "\\begin{equation}\n",
    "(\\frac{1}{2}k^2 + k \\, m + \\frac{1}{2}m^2 - \\mu) a_m + \\frac{1}{2} v \\, a_{m+1} + \\frac{1}{2} v \\, a_{m-1} +\\sum_{l+g-n=m}^{}a_g a_l a_n = 0\n",
    "\\end{equation}\n",
    "\n",
    "11.上式$m$取值$-L$到$L$，忽略$a_m$超过$-L$到$L$范围的项，得到$2L+1$个方程的非线性方程组。在方程组中代入线性能带的能量$\\mu$，波数$k$，用牛顿法求数值解可得到各个$a_m$的值。$a_m$的值代入5中就能得到$\\rho (x)$。"
   ]
  }
 ]
}